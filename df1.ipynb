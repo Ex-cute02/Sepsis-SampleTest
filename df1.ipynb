{
 "cells": [
  {
   "cell_type": "code",
   "execution_count": 3,
   "id": "56f94b46",
   "metadata": {},
   "outputs": [],
   "source": [
    "import numpy as np\n",
    "import pandas as pd\n",
    "import matplotlib.pyplot as plt\n",
    "from sklearn.model_selection import train_test_split\n",
    "from sklearn.preprocessing import StandardScaler\n",
    "from sklearn.linear_model import LogisticRegression\n",
    "from sklearn.metrics import accuracy_score, classification_report, confusion_matrix\n",
    "from sklearn.impute import SimpleImputer\n",
    "from sklearn.compose import ColumnTransformer"
   ]
  },
  {
   "cell_type": "code",
   "execution_count": 4,
   "id": "c00dd0e0",
   "metadata": {},
   "outputs": [],
   "source": [
    "df = pd.read_csv('Dataset.csv')"
   ]
  },
  {
   "cell_type": "code",
   "execution_count": 5,
   "id": "3f5aaa7c",
   "metadata": {},
   "outputs": [
    {
     "data": {
      "text/plain": [
       "<bound method NDFrame.head of          Unnamed: 0  Hour     HR  O2Sat  Temp    SBP   MAP   DBP  Resp  EtCO2  \\\n",
       "0                 0     0    NaN    NaN   NaN    NaN   NaN   NaN   NaN    NaN   \n",
       "1                 1     1   65.0  100.0   NaN    NaN  72.0   NaN  16.5    NaN   \n",
       "2                 2     2   78.0  100.0   NaN    NaN  42.5   NaN   NaN    NaN   \n",
       "3                 3     3   73.0  100.0   NaN    NaN   NaN   NaN  17.0    NaN   \n",
       "4                 4     4   70.0  100.0   NaN  129.0  74.0  69.0  14.0    NaN   \n",
       "...             ...   ...    ...    ...   ...    ...   ...   ...   ...    ...   \n",
       "1552205          21    21   83.0   99.0   NaN  121.0  77.0  54.0  22.0    NaN   \n",
       "1552206          22    22   80.0   92.0   NaN  102.0  73.0  51.0  24.0    NaN   \n",
       "1552207          23    23   95.0   97.0  36.7  128.5  83.0  58.5  25.0    NaN   \n",
       "1552208          24    24  104.0   99.0   NaN  127.0  85.0  59.0  24.0    NaN   \n",
       "1552209          25    25   94.5   99.0   NaN  112.0  81.0  56.0  22.0    NaN   \n",
       "\n",
       "         ...  Fibrinogen  Platelets    Age  Gender  Unit1  Unit2  HospAdmTime  \\\n",
       "0        ...         NaN        NaN  68.54       0    NaN    NaN        -0.02   \n",
       "1        ...         NaN        NaN  68.54       0    NaN    NaN        -0.02   \n",
       "2        ...         NaN        NaN  68.54       0    NaN    NaN        -0.02   \n",
       "3        ...         NaN        NaN  68.54       0    NaN    NaN        -0.02   \n",
       "4        ...         NaN      330.0  68.54       0    NaN    NaN        -0.02   \n",
       "...      ...         ...        ...    ...     ...    ...    ...          ...   \n",
       "1552205  ...         NaN        NaN  88.00       0    1.0    0.0        -2.93   \n",
       "1552206  ...         NaN        NaN  88.00       0    1.0    0.0        -2.93   \n",
       "1552207  ...         NaN        NaN  88.00       0    1.0    0.0        -2.93   \n",
       "1552208  ...         NaN        NaN  88.00       0    1.0    0.0        -2.93   \n",
       "1552209  ...         NaN        NaN  88.00       0    1.0    0.0        -2.93   \n",
       "\n",
       "         ICULOS  SepsisLabel  Patient_ID  \n",
       "0             1            0       17072  \n",
       "1             2            0       17072  \n",
       "2             3            0       17072  \n",
       "3             4            0       17072  \n",
       "4             5            0       17072  \n",
       "...         ...          ...         ...  \n",
       "1552205      22            0      113911  \n",
       "1552206      23            0      113911  \n",
       "1552207      24            0      113911  \n",
       "1552208      25            0      113911  \n",
       "1552209      26            0      113911  \n",
       "\n",
       "[1552210 rows x 44 columns]>"
      ]
     },
     "execution_count": 5,
     "metadata": {},
     "output_type": "execute_result"
    }
   ],
   "source": [
    "df.head"
   ]
  },
  {
   "cell_type": "code",
   "execution_count": 6,
   "id": "fc5f1c17",
   "metadata": {},
   "outputs": [
    {
     "data": {
      "text/plain": [
       "(1552210, 44)"
      ]
     },
     "execution_count": 6,
     "metadata": {},
     "output_type": "execute_result"
    }
   ],
   "source": [
    "df.shape"
   ]
  },
  {
   "cell_type": "code",
   "execution_count": 7,
   "id": "647663a2",
   "metadata": {},
   "outputs": [
    {
     "data": {
      "text/plain": [
       "68297240"
      ]
     },
     "execution_count": 7,
     "metadata": {},
     "output_type": "execute_result"
    }
   ],
   "source": [
    "df.size"
   ]
  },
  {
   "cell_type": "code",
   "execution_count": 8,
   "id": "2240abde",
   "metadata": {},
   "outputs": [
    {
     "ename": "SyntaxError",
     "evalue": "unexpected character after line continuation character (1390317063.py, line 1)",
     "output_type": "error",
     "traceback": [
      "  \u001b[36mCell\u001b[39m\u001b[36m \u001b[39m\u001b[32mIn[8]\u001b[39m\u001b[32m, line 1\u001b[39m\n\u001b[31m    \u001b[39m\u001b[31mdf = pd.read_csv('Dataset.csv'); print('Target distribution:'); print(df['SepsisLabel'].value_counts()); print(f'Sepsis rate: {df[\\\"SepsisLabel\\\"].mean():.3f}'); print(f'Missing values per column:'); print(df.isnull().sum().sort_values(ascending=False).head(10))\u001b[39m\n                                                                                                                                       ^\n\u001b[31mSyntaxError\u001b[39m\u001b[31m:\u001b[39m unexpected character after line continuation character\n"
     ]
    }
   ],
   "source": [
    "df = pd.read_csv('Dataset.csv'); print('Target distribution:'); print(df['SepsisLabel'].value_counts()); print(f'Sepsis rate: {df[\\\"SepsisLabel\\\"].mean():.3f}'); print(f'Missing values per column:'); print(df.isnull().sum().sort_values(ascending=False).head(10))"
   ]
  },
  {
   "cell_type": "code",
   "execution_count": 9,
   "id": "751b2e34",
   "metadata": {},
   "outputs": [
    {
     "name": "stdout",
     "output_type": "stream",
     "text": [
      "       Unnamed: 0  Hour    HR  O2Sat   Temp    SBP   MAP   DBP  Resp  EtCO2  \\\n",
      "0               0     0   NaN    NaN    NaN    NaN   NaN   NaN   NaN    NaN   \n",
      "1               1     1  65.0  100.0    NaN    NaN  72.0   NaN  16.5    NaN   \n",
      "2               2     2  78.0  100.0    NaN    NaN  42.5   NaN   NaN    NaN   \n",
      "3               3     3  73.0  100.0    NaN    NaN   NaN   NaN  17.0    NaN   \n",
      "4               4     4  70.0  100.0    NaN  129.0  74.0  69.0  14.0    NaN   \n",
      "...           ...   ...   ...    ...    ...    ...   ...   ...   ...    ...   \n",
      "39995           5     5  97.5   97.0  37.17   92.0  66.5  52.0  13.0    NaN   \n",
      "39996           6     6  97.0   97.0    NaN   82.5  58.0  47.5  12.0    NaN   \n",
      "39997           7     7  94.0   97.0    NaN   80.0  56.0  46.0  12.0    NaN   \n",
      "39998           8     8  94.5   97.0    NaN   74.0  52.0  43.0  13.0    NaN   \n",
      "39999           9     9  91.0   97.0    NaN   76.0  52.0  41.0  13.0    NaN   \n",
      "\n",
      "       ...  Fibrinogen  Platelets    Age  Gender  Unit1  Unit2  HospAdmTime  \\\n",
      "0      ...         NaN        NaN  68.54       0    NaN    NaN        -0.02   \n",
      "1      ...         NaN        NaN  68.54       0    NaN    NaN        -0.02   \n",
      "2      ...         NaN        NaN  68.54       0    NaN    NaN        -0.02   \n",
      "3      ...         NaN        NaN  68.54       0    NaN    NaN        -0.02   \n",
      "4      ...         NaN      330.0  68.54       0    NaN    NaN        -0.02   \n",
      "...    ...         ...        ...    ...     ...    ...    ...          ...   \n",
      "39995  ...         NaN        NaN  74.73       0    NaN    NaN        -7.39   \n",
      "39996  ...         NaN        NaN  74.73       0    NaN    NaN        -7.39   \n",
      "39997  ...         NaN        NaN  74.73       0    NaN    NaN        -7.39   \n",
      "39998  ...         NaN        NaN  74.73       0    NaN    NaN        -7.39   \n",
      "39999  ...         NaN      195.0  74.73       0    NaN    NaN        -7.39   \n",
      "\n",
      "       ICULOS  SepsisLabel  Patient_ID  \n",
      "0           1            0       17072  \n",
      "1           2            0       17072  \n",
      "2           3            0       17072  \n",
      "3           4            0       17072  \n",
      "4           5            0       17072  \n",
      "...       ...          ...         ...  \n",
      "39995       6            0        9851  \n",
      "39996       7            0        9851  \n",
      "39997       8            0        9851  \n",
      "39998       9            0        9851  \n",
      "39999      10            0        9851  \n",
      "\n",
      "[40000 rows x 44 columns]\n"
     ]
    }
   ],
   "source": [
    "fru = df.head(40000)\n",
    "print (fru)"
   ]
  },
  {
   "cell_type": "code",
   "execution_count": 10,
   "id": "abef8e39",
   "metadata": {},
   "outputs": [],
   "source": [
    "fru.to_csv('fru.csv', index=False)"
   ]
  },
  {
   "cell_type": "code",
   "execution_count": null,
   "id": "4d7322a6",
   "metadata": {},
   "outputs": [],
   "source": []
  }
 ],
 "metadata": {
  "kernelspec": {
   "display_name": "Python 3",
   "language": "python",
   "name": "python3"
  },
  "language_info": {
   "codemirror_mode": {
    "name": "ipython",
    "version": 3
   },
   "file_extension": ".py",
   "mimetype": "text/x-python",
   "name": "python",
   "nbconvert_exporter": "python",
   "pygments_lexer": "ipython3",
   "version": "3.12.1"
  }
 },
 "nbformat": 4,
 "nbformat_minor": 5
}
